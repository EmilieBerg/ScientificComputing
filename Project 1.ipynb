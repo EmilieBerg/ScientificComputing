{
 "cells": [
  {
   "cell_type": "code",
   "execution_count": 1,
   "metadata": {},
   "outputs": [
    {
     "ename": "ModuleNotFoundError",
     "evalue": "No module named 'matplotlib'",
     "output_type": "error",
     "traceback": [
      "\u001b[0;31m---------------------------------------------------------------------------\u001b[0m",
      "\u001b[0;31mModuleNotFoundError\u001b[0m                       Traceback (most recent call last)",
      "Cell \u001b[0;32mIn[1], line 2\u001b[0m\n\u001b[1;32m      1\u001b[0m \u001b[38;5;28;01mimport\u001b[39;00m \u001b[38;5;21;01mnumpy\u001b[39;00m \u001b[38;5;28;01mas\u001b[39;00m \u001b[38;5;21;01mnp\u001b[39;00m\n\u001b[0;32m----> 2\u001b[0m \u001b[38;5;28;01mimport\u001b[39;00m \u001b[38;5;21;01mmatplotlib\u001b[39;00m\u001b[38;5;21;01m.\u001b[39;00m\u001b[38;5;21;01mpyplot\u001b[39;00m \u001b[38;5;28;01mas\u001b[39;00m \u001b[38;5;21;01mplt\u001b[39;00m\n",
      "\u001b[0;31mModuleNotFoundError\u001b[0m: No module named 'matplotlib'"
     ]
    }
   ],
   "source": [
    "import numpy as np\n",
    "import matplotlib.pyplot as plt"
   ]
  },
  {
   "cell_type": "markdown",
   "metadata": {},
   "source": [
    "# Week 1"
   ]
  },
  {
   "cell_type": "markdown",
   "metadata": {},
   "source": [
    "# Data"
   ]
  },
  {
   "cell_type": "code",
   "execution_count": 2,
   "metadata": {},
   "outputs": [],
   "source": [
    "Amat = np.array([\n",
    "    [22.13831203, 0.16279204, 0.02353879, 0.02507880,-0.02243145,-0.02951967,-0.02401863],\n",
    "    [0.16279204, 29.41831006, 0.02191543,-0.06341569, 0.02192010, 0.03284020, 0.03014052],\n",
    "    [0.02353879,  0.02191543, 1.60947260,-0.01788177, 0.07075279, 0.03659182, 0.06105488],\n",
    "    [0.02507880, -0.06341569,-0.01788177, 9.36187184,-0.07751218, 0.00541094,-0.10660903],\n",
    "    [-0.02243145, 0.02192010, 0.07075279,-0.07751218, 0.71033323, 0.10958126, 0.12061597],\n",
    "    [-0.02951967, 0.03284020, 0.03659182, 0.00541094, 0.10958126, 8.38326265, 0.06673979],\n",
    "    [-0.02401863, 0.03014052, 0.06105488,-0.10660903, 0.12061597, 0.06673979, 1.15733569]]);\n",
    "\n",
    "Bmat = np.array([\n",
    "    [-0.03423002, 0.09822473,-0.00832308,-0.02524951,-0.00015116, 0.05321264, 0.01834117],\n",
    "    [ 0.09822473,-0.51929354,-0.02050445, 0.10769768,-0.02394699,-0.04550922,-0.02907560],\n",
    "    [-0.00832308,-0.02050445,-0.11285991, 0.04843759,-0.06732213,-0.08106876,-0.13042524],\n",
    "    [-0.02524951, 0.10769768, 0.04843759,-0.10760461, 0.09008724, 0.05284246, 0.10728227],\n",
    "    [-0.00015116,-0.02394699,-0.06732213, 0.09008724,-0.07596617,-0.02290627,-0.12421902],\n",
    "    [ 0.05321264,-0.04550922,-0.08106876, 0.05284246,-0.02290627,-0.07399581,-0.07509467],\n",
    "    [ 0.01834117,-0.02907560,-0.13042524, 0.10728227,-0.12421902,-0.07509467,-0.16777868]]);\n",
    "\n",
    "yvec= np.array([-0.05677315,-0.00902581, 0.16002152, 0.07001784, 0.67801388,-0.10904168, 0.90505180]);\n",
    "\n",
    "E_mat = np.block([[Amat, Bmat], [Bmat, Amat]])  #construct matrix E\n",
    "S_mat = np.block([[np.identity(len(Amat)), np.zeros(Amat.shape)], [np.zeros(Amat.shape), -np.identity(len(Amat))]])  #construct matrix S\n",
    "z_vec = np.block([yvec, -yvec])  #construct vector z"
   ]
  },
  {
   "cell_type": "markdown",
   "metadata": {},
   "source": [
    "# Problem a"
   ]
  },
  {
   "cell_type": "markdown",
   "metadata": {},
   "source": [
    "## 1)"
   ]
  },
  {
   "cell_type": "code",
   "execution_count": 3,
   "metadata": {},
   "outputs": [],
   "source": [
    "def norm(M):\n",
    "    \"\"\"This function takes a matrix M and calculates the max norm of matrix M\"\"\"\n",
    "    norm_M = np.max(np.sum(np.abs(M), axis=1))\n",
    "    \n",
    "    return norm_M\n",
    "\n",
    "def condition_number(M):\n",
    "    \"\"\"This funtion takes a matrix M and returns the condition number of matrix M\"\"\"\n",
    "    invM = np.linalg.inv(M)\n",
    "    \n",
    "    cond = norm(M) * norm(invM)\n",
    "    \n",
    "    return cond"
   ]
  },
  {
   "cell_type": "markdown",
   "metadata": {},
   "source": [
    "## 2)"
   ]
  },
  {
   "cell_type": "code",
   "execution_count": 4,
   "metadata": {},
   "outputs": [
    {
     "name": "stdout",
     "output_type": "stream",
     "text": [
      "Condition number for omega = 0.800: 327.82\n",
      "Condition number for omega = 1.146: 152679.27\n",
      "Condition number for omega = 1.400: 227.19\n"
     ]
    }
   ],
   "source": [
    "omega = np.array([0.800, 1.146, 1.400])  #frequencies\n",
    "\n",
    "#calculate condition number for each frequency\n",
    "cond_numbers = []\n",
    "\n",
    "for i in range(len(omega)):\n",
    "    cond_i = condition_number(E_mat-omega[i]*S_mat)\n",
    "    cond_numbers.append(cond_i)\n",
    "\n",
    "print(\"Condition number for omega = 0.800:\", np.round(cond_numbers[0], 2))\n",
    "print(\"Condition number for omega = 1.146:\", np.round(cond_numbers[1], 2))\n",
    "print(\"Condition number for omega = 1.400:\", np.round(cond_numbers[2], 2))"
   ]
  },
  {
   "cell_type": "code",
   "execution_count": 5,
   "metadata": {},
   "outputs": [
    {
     "name": "stdout",
     "output_type": "stream",
     "text": [
      "Signiticant digets in x for omega = 0.800: 5.5\n",
      "Signiticant digets in x for omega = 1.146: 2.8\n",
      "Signiticant digets in x for omega = 1.400: 5.6\n"
     ]
    }
   ],
   "source": [
    "#number of significant digets in x is given by the number of significant digets in z minus log(condition number)\n",
    "\n",
    "print(\"Signiticant digets in x for omega = 0.800:\", np.round(8-np.log10(cond_numbers[0]), 1))\n",
    "print(\"Signiticant digets in x for omega = 1.146:\", np.round(8-np.log10(cond_numbers[1]), 1))\n",
    "print(\"Signiticant digets in x for omega = 1.400:\", np.round(8-np.log10(cond_numbers[2]), 1))"
   ]
  },
  {
   "cell_type": "markdown",
   "metadata": {},
   "source": [
    "# Problem b"
   ]
  },
  {
   "cell_type": "markdown",
   "metadata": {},
   "source": [
    "## 1)"
   ]
  },
  {
   "cell_type": "code",
   "execution_count": 6,
   "metadata": {},
   "outputs": [
    {
     "name": "stdout",
     "output_type": "stream",
     "text": [
      "Bound on the relative forward error for omega = 0.800: 0.0052\n",
      "Bound on the relative forward error for omega = 1.146: 2.405\n",
      "Bound on the relative forward error for omega = 1.400: 0.0036\n"
     ]
    }
   ],
   "source": [
    "del_omega = 1/2 * 10**(-3)  #perturbation in frequency\n",
    "\n",
    "#calculate bound on relative forward error\n",
    "rel_forward_err = []\n",
    "\n",
    "for i in range(len(omega)):\n",
    "    rel_forward_err_i = condition_number(E_mat-omega[i]*S_mat) * norm(del_omega*S_mat) / norm(E_mat-omega[i]*S_mat)\n",
    "    rel_forward_err.append(rel_forward_err_i)\n",
    "\n",
    "print(\"Bound on the relative forward error for omega = 0.800:\", np.round(rel_forward_err[0], 4))\n",
    "print(\"Bound on the relative forward error for omega = 1.146:\", np.round(rel_forward_err[1], 4))\n",
    "print(\"Bound on the relative forward error for omega = 1.400:\", np.round(rel_forward_err[2], 4))"
   ]
  },
  {
   "cell_type": "markdown",
   "metadata": {},
   "source": [
    "## 2)"
   ]
  },
  {
   "cell_type": "code",
   "execution_count": 7,
   "metadata": {},
   "outputs": [
    {
     "name": "stdout",
     "output_type": "stream",
     "text": [
      "Signiticant digets in x for omega = 0.800: 2.3\n",
      "Signiticant digets in x for omega = 1.146: -0.38\n",
      "Signiticant digets in x for omega = 1.400: 2.4\n"
     ]
    }
   ],
   "source": [
    "#the number of significant digets in x is given by -log(relative forward error)\n",
    "\n",
    "print(\"Signiticant digets in x for omega = 0.800:\", np.round(-np.log10(rel_forward_err[0]), 1))\n",
    "print(\"Signiticant digets in x for omega = 1.146:\", np.round(-np.log10(rel_forward_err[1]), 2))\n",
    "print(\"Signiticant digets in x for omega = 1.400:\", np.round(-np.log10(rel_forward_err[2]), 1))"
   ]
  },
  {
   "cell_type": "markdown",
   "metadata": {},
   "source": [
    "# Problem c"
   ]
  },
  {
   "cell_type": "markdown",
   "metadata": {},
   "source": [
    "## 1)"
   ]
  },
  {
   "cell_type": "code",
   "execution_count": 8,
   "metadata": {},
   "outputs": [],
   "source": [
    "def LU_factorize(M):\n",
    "    \"\"\"This function takes a square matrix M and returns the LU-decomposition of matrix M where L is the lower triangular matrix and U is the upper triangular matrix\"\"\"\n",
    "    \n",
    "    U = M  #initialize U\n",
    "    L = np.identity(len(M))  #initialize L\n",
    "\n",
    "    for k in range(len(M)-1): #loop over all columns except the last\n",
    "        if U[k,k] == 0:\n",
    "            print(\"pivot is zero\")\n",
    "            break  #stop if pivot is zero\n",
    "            \n",
    "        m_i = np.identity(len(M))  #initialize intermediate matrix to be multiplied onto U from the left\n",
    "        l_i = np.identity(len(M))  #initialize intermediate matrix to be multiplied onto L from the right\n",
    "        \n",
    "        for i in range(k+1, len(M)):  #loop over all rows in column k below the pivot\n",
    "            m_i[i,k] = - U[i,k] / U[k,k]\n",
    "            l_i[i,k] = - m_i[i,k]\n",
    "        \n",
    "        U = np.matmul(m_i,U)  #multiply m_i onto U from the left to construct U\n",
    "        L = np.matmul(L,l_i)  #multiply l_i onto L from the right to construct L\n",
    "    \n",
    "    return L, U"
   ]
  },
  {
   "cell_type": "code",
   "execution_count": 9,
   "metadata": {},
   "outputs": [
    {
     "name": "stdout",
     "output_type": "stream",
     "text": [
      "[[ 2.  1.  1.]\n",
      " [ 4.  1.  4.]\n",
      " [-6. -5.  3.]]\n"
     ]
    }
   ],
   "source": [
    "#the function is tested with matrix A\n",
    "\n",
    "A = np.array([[2,1,1],[4,1,4],[-6,-5,3]])\n",
    "\n",
    "L, U = LU_factorize(A)\n",
    "\n",
    "print(np.matmul(L,U))  #check if LU-factorization is correct, hence if LU=A"
   ]
  },
  {
   "cell_type": "markdown",
   "metadata": {},
   "source": [
    "## 2)"
   ]
  },
  {
   "cell_type": "code",
   "execution_count": 10,
   "metadata": {},
   "outputs": [],
   "source": [
    "def forward_substitute(L, b):\n",
    "    \"\"\"This function takes a square lower triangular matrix L and a vector b and returns the solution vector y to the system Ly=b\"\"\"\n",
    "    \n",
    "    b = np.copy(b)  #initialize b\n",
    "    y = np.zeros(len(L))  #initialize solution y\n",
    "    \n",
    "    for j in range(len(L)):  #loop over all columns in L\n",
    "        if L[j,j] == 0:\n",
    "            print(\"matrix is singular\")\n",
    "            break  #stop if the matrix is singular\n",
    "            \n",
    "        y[j] = b[j]/L[j,j]  #calculate the j-component of the solution\n",
    "        \n",
    "        for i in range(j+1, len(L)):  #loop over all rows in L below L[j,j]\n",
    "            b[i] = b[i] - L[i,j] * y[j]  #update b\n",
    "    \n",
    "    return y"
   ]
  },
  {
   "cell_type": "code",
   "execution_count": 11,
   "metadata": {},
   "outputs": [],
   "source": [
    "def back_substitute(U,y):\n",
    "    \"\"\"This function takes a square upper triangular matrix U and a vector y and returns the solution vector x to the system Ux=y\"\"\"\n",
    "    \n",
    "    y = np.copy(y)  #initialize y\n",
    "    x = np.zeros(len(U))  #initialize solution x\n",
    "\n",
    "    for j in range(len(U)-1,-1,-1):  #loop backwards over columns in U\n",
    "        if U[j,j] == 0:\n",
    "            print(\"matrix is singular\")\n",
    "            break  #stop if the matrix is singular\n",
    "        \n",
    "        x[j] = y[j] / U[j,j]  #calculate the j-component of the solution\n",
    "        \n",
    "        for i in range(j):  #loop over the j first rows in U\n",
    "            y[i] = y[i] - U[i,j] * x[j]  #update y\n",
    "    \n",
    "    return x"
   ]
  },
  {
   "cell_type": "code",
   "execution_count": 12,
   "metadata": {},
   "outputs": [
    {
     "name": "stdout",
     "output_type": "stream",
     "text": [
      "My routine gives the solution x= [-4.  7.  5.]\n",
      "A library routine gives the solution x= [-4.  7.  5.]\n"
     ]
    }
   ],
   "source": [
    "#the whole routine is testet with the system Ax=b\n",
    "\n",
    "A = np.array([[2,1,1],[4,1,4],[-6,-5,3]])\n",
    "b = np.array([4,11,4])\n",
    "\n",
    "L, U = LU_factorize(A)\n",
    "y = forward_substitute(L, b)\n",
    "x = back_substitute(U,y)\n",
    "\n",
    "print(\"My routine gives the solution x=\",x)  #the solution from my routine\n",
    "print(\"A library routine gives the solution x=\", np.linalg.solve(A, b))  #the solution from a library routine"
   ]
  },
  {
   "cell_type": "markdown",
   "metadata": {},
   "source": [
    "# Problem d"
   ]
  },
  {
   "cell_type": "code",
   "execution_count": 13,
   "metadata": {},
   "outputs": [],
   "source": [
    "def solve_alpha(freq, z=z_vec, E=E_mat, S=S_mat):\n",
    "    \"\"\"This function takes a frequency and returns the frequency dependent polarizability alpha for that frequency as well as x (needed to calculate bound)\"\"\"\n",
    "    \n",
    "    #to find alpha, the system (E-omega*S)x=z is solved for x using my routines from the previous problem\n",
    "    L, U = LU_factorize(E-freq*S)\n",
    "    y = forward_substitute(L, z)\n",
    "    x = back_substitute(U,y)\n",
    "    \n",
    "    alpha = np.dot(z, x)  #alpha is then given by z dot x\n",
    "    \n",
    "    return alpha, x\n",
    "\n",
    "def alpha_array(freq):\n",
    "    \"\"\"This function takes an array of frequencies and returns an array with polarizability as a function of frequency\"\"\"\n",
    "\n",
    "    alpha_array = np.zeros(len(freq))  #initialize array for values of the polarizability for each frequency\n",
    "\n",
    "    for i in range(len(freq)):  #calculate polarizability for each frequency\n",
    "        alpha_array[i] = solve_alpha(freq[i])[0]\n",
    "    \n",
    "    return alpha_array"
   ]
  },
  {
   "cell_type": "markdown",
   "metadata": {},
   "source": [
    "## 1)"
   ]
  },
  {
   "cell_type": "code",
   "execution_count": 14,
   "metadata": {},
   "outputs": [
    {
     "name": "stdout",
     "output_type": "stream",
     "text": [
      "omega = [0.8   1.146 1.4  ] \n",
      "\n",
      "alpha(omega) = [ 1.636000e+00  2.609235e+03 -2.707000e+00]\n",
      "alpha(omega + del_omega) = [ 1.644000e+00 -4.185018e+03 -2.700000e+00]\n",
      "alpha(omega - del_omega) = [  1.628 994.753  -2.714] \n",
      "\n",
      "Delta alpha = [8.29000000e-03 6.79425361e+03 6.97000000e-03]\n"
     ]
    }
   ],
   "source": [
    "omega = np.array([0.800, 1.146, 1.400])  #array of frequencies\n",
    "del_omega = 1/2 * 10**(-3)  #frequency perturbation\n",
    "\n",
    "#solve for alpha using the function above for each of the values of omega with and without perturbations\n",
    "alpha = alpha_array(omega)  #omega\n",
    "alpha_minus = alpha_array(omega - del_omega)  #omega - del_omega\n",
    "alpha_plus = alpha_array(omega + del_omega)   #omega + del_omega\n",
    "\n",
    "#print values of alpha\n",
    "print(\"omega =\", omega, \"\\n\")\n",
    "print(\"alpha(omega) =\", np.round(alpha, 3))\n",
    "print(\"alpha(omega + del_omega) =\", np.round(alpha_plus, 3))\n",
    "print(\"alpha(omega - del_omega) =\", np.round(alpha_minus, 3), \"\\n\")\n",
    "\n",
    "#print calculated Dalpha = abs(alpha(omega + domega) - alpha)\n",
    "print(\"Delta alpha =\", np.round(np.abs(alpha_plus-alpha), 5))"
   ]
  },
  {
   "cell_type": "markdown",
   "metadata": {},
   "source": [
    "## 3)"
   ]
  },
  {
   "cell_type": "code",
   "execution_count": 15,
   "metadata": {},
   "outputs": [
    {
     "name": "stdout",
     "output_type": "stream",
     "text": [
      "omega = [0.8   1.146 1.4  ] \n",
      "\n",
      "Bound on Delta alpha = [1.50000000e-02 6.18733026e+03 1.04200000e-02]\n"
     ]
    }
   ],
   "source": [
    "omega = np.array([0.800, 1.146, 1.400])  #array of frequencies\n",
    "del_omega = 1/2 * 10**(-3)  #frequency perturbation\n",
    "\n",
    "#calculate upper bound for Delta alpha\n",
    "D_alpha_bound = []\n",
    "\n",
    "for i in range(len(omega)):\n",
    "    D_alpha_bound_i = np.max(np.abs(np.transpose(z_vec))) * np.max(np.abs(solve_alpha(omega[i])[1])) * condition_number(E_mat-omega[i]*S_mat) * norm(del_omega*S_mat) / norm(E_mat-omega[i]*S_mat)\n",
    "    D_alpha_bound.append(D_alpha_bound_i)\n",
    "    \n",
    "print(\"omega =\", omega, \"\\n\")\n",
    "print(\"Bound on Delta alpha =\", np.round(D_alpha_bound, 5))  #print bound on Delta alpha for each frequency"
   ]
  },
  {
   "cell_type": "markdown",
   "metadata": {},
   "source": [
    "# Problem e"
   ]
  },
  {
   "cell_type": "markdown",
   "metadata": {},
   "source": [
    "## 1)"
   ]
  },
  {
   "cell_type": "code",
   "execution_count": 16,
   "metadata": {},
   "outputs": [
    {
     "data": {
      "text/plain": [
       "Text(0.5, 1.0, 'Polarizability as a function of frequency')"
      ]
     },
     "execution_count": 16,
     "metadata": {},
     "output_type": "execute_result"
    },
    {
     "data": {
      "image/png": "[encoded data removed]",
      "text/plain": [
       "<Figure size 432x288 with 1 Axes>"
      ]
     },
     "metadata": {
      "needs_background": "light"
     },
     "output_type": "display_data"
    }
   ],
   "source": [
    "omega = np.linspace(0.7, 1.5, 1000)  #array of 1000 evenly spaced values of omega from 0.7 to 1.5\n",
    "\n",
    "plt.plot(omega, alpha_array(omega))  #plot polarizability as a function of frequency\n",
    "plt.plot(1.146307999, 0, \"o\")  #create dot at point of singularity\n",
    "plt.xlabel(\"$\\omega$\")\n",
    "plt.ylabel(\"polarizability\")\n",
    "plt.title(\"Polarizability as a function of frequency\")"
   ]
  },
  {
   "cell_type": "markdown",
   "metadata": {},
   "source": [
    "# Week 2"
   ]
  },
  {
   "cell_type": "markdown",
   "metadata": {},
   "source": [
    "# Data"
   ]
  },
  {
   "cell_type": "code",
   "execution_count": 17,
   "metadata": {},
   "outputs": [],
   "source": [
    "A0 = np.array([[1,2],[3,4]], dtype = float)\n",
    "A1 = np.array([[1,2],[3,4],[5,6]], dtype = float)\n",
    "A2 = np.array([[1,2,3],[4,5,6],[7,8,9],[10,11,12]], dtype = float)\n",
    "\n",
    "b0 = np.array([1,2], dtype = float)\n",
    "b1 = np.array([1,2,3], dtype = float)\n",
    "b2 = np.array([1,2,3,4], dtype = float)\n",
    "\n",
    "x0 = np.array([-0. ,  0.5], dtype = float)\n",
    "x1 = np.array([-0. ,  0.5], dtype = float)\n",
    "x2 = np.array([-0.33333333,  0.66666667,  0.        ], dtype = float)"
   ]
  },
  {
   "cell_type": "markdown",
   "metadata": {},
   "source": [
    "# Problem f"
   ]
  },
  {
   "cell_type": "code",
   "execution_count": 18,
   "metadata": {},
   "outputs": [],
   "source": [
    "def householder_QR_slow(A):\n",
    "    \"\"\"This function takes a m x n matrix M and uses the Householder method to compute the QR decomposition. It returns an m x m matrix Q, an m x n matrix R without zero-rows removed (R) and an n x n matrix R with zero-rows removed (R_square). This function explicitly computes and stores Q.\"\"\"\n",
    "    \n",
    "    R = np.copy(A)  #initialize R\n",
    "    Q = np.identity(np.max(np.shape(A)))  #initialize Q\n",
    "    \n",
    "    for i in range(np.min(np.shape(A))):  #loop over columns\n",
    "        e = np.zeros(np.max(np.shape(A)))  #create e_i-vector\n",
    "        e[i] = 1\n",
    "        \n",
    "        a_i = np.copy(R[:,i])  #make a copy of the i'th column in R\n",
    "        a_i[:i] = 0  #set all indices above i to zero\n",
    "        \n",
    "        v_i = a_i - np.copysign(np.linalg.norm(a_i) * e, -a_i[0])  #compute vector v for the i'th column\n",
    "        \n",
    "        if np.dot(v_i,v_i) == 0:  #skip current column if it is already zero\n",
    "            continue\n",
    "        \n",
    "        H_i = np.identity(len(v_i)) - 2 * np.outer(v_i,v_i) / np.dot(v_i,v_i)  #compute Householder matrix for the i'th column\n",
    "    \n",
    "        Q = np.matmul(Q, H_i)  #update Q by multiplying with H_i from the right    \n",
    "        R = np.matmul(H_i, R)  #update R by multiplying with H_i from the left\n",
    "        \n",
    "    R_square = R[:np.min(np.shape(A)),:]  #remove bottom rows that are zero\n",
    "    \n",
    "    return Q, R, R_square"
   ]
  },
  {
   "cell_type": "code",
   "execution_count": 19,
   "metadata": {},
   "outputs": [
    {
     "name": "stdout",
     "output_type": "stream",
     "text": [
      "[[-1.732  0.577  0.577]\n",
      " [-0.    -1.633  0.816]\n",
      " [-0.    -0.    -1.414]] \n",
      "\n",
      "[[ 1.  0. -0. -0. -0. -0.]\n",
      " [ 0.  1.  0.  0. -0. -0.]\n",
      " [-0.  0.  1. -0. -0.  0.]\n",
      " [-0.  0. -0.  1.  0. -0.]\n",
      " [-0. -0. -0.  0.  1.  0.]\n",
      " [-0. -0.  0. -0.  0.  1.]] \n",
      "\n",
      "[[ 1.  0.  0. -0. -0.  0.]\n",
      " [ 0.  1.  0.  0. -0. -0.]\n",
      " [ 0.  0.  1. -0.  0. -0.]\n",
      " [-0.  0. -0.  1.  0. -0.]\n",
      " [-0. -0.  0.  0.  1.  0.]\n",
      " [ 0. -0. -0. -0.  0.  1.]] \n",
      "\n",
      "[[ 1. -0. -0.]\n",
      " [ 0.  1. -0.]\n",
      " [ 0.  0.  1.]\n",
      " [-1.  1.  0.]\n",
      " [-1.  0.  1.]\n",
      " [-0. -1.  1.]]\n"
     ]
    }
   ],
   "source": [
    "#test function with example 3.8 in Heath\n",
    "Aex = np.array([[1, 0, 0], [0, 1, 0],  [0,0,1], [-1, 1, 0], [-1, 0, 1], [0, -1, 1]], dtype = float)\n",
    "\n",
    "Q, R, R_square = householder_QR_slow(Aex)\n",
    "\n",
    "print(np.round(R_square, 3), \"\\n\")  #print resulting R matrix to 3 digit accurarry\n",
    "\n",
    "print(np.round(np.matmul(Q, np.transpose(Q)), 3), \"\\n\")  #print Q * Q_transpose (should equal identity matrix)\n",
    "print(np.round(np.matmul(np.transpose(Q), Q), 3), \"\\n\")  #print Q_transpose * Q (should equal identity matrix)\n",
    "\n",
    "print(np.round(np.matmul(Q,R), 3))  #print Q*R (should equal Aex)"
   ]
  },
  {
   "cell_type": "code",
   "execution_count": 20,
   "metadata": {},
   "outputs": [
    {
     "name": "stdout",
     "output_type": "stream",
     "text": [
      "[[-5.916 -7.437]\n",
      " [ 0.    -0.828]] \n",
      "\n",
      "[[ 1. -0. -0.]\n",
      " [-0.  1. -0.]\n",
      " [-0. -0.  1.]] \n",
      "\n",
      "[[ 1. -0. -0.]\n",
      " [-0.  1. -0.]\n",
      " [-0. -0.  1.]] \n",
      "\n",
      "[[1. 2.]\n",
      " [3. 4.]\n",
      " [5. 6.]]\n"
     ]
    }
   ],
   "source": [
    "#test function with matrix A1\n",
    "\n",
    "Q, R, R_square = householder_QR_slow(A1)\n",
    "\n",
    "print(np.round(R_square, 3), \"\\n\")  #print resulting R matrix rounded to 3 diget accuracy\n",
    "\n",
    "print(np.round(np.matmul(Q, np.transpose(Q)), 3), \"\\n\")  #print Q * Q_transpose (should equal identity matrix)\n",
    "print(np.round(np.matmul(np.transpose(Q), Q), 3), \"\\n\")  #print Q_transpose * Q (should equal identity matrix)\n",
    "\n",
    "print(np.round(np.matmul(Q,R), 3))  #print Q*R (should equal A1)"
   ]
  },
  {
   "cell_type": "markdown",
   "metadata": {},
   "source": [
    "## 2)"
   ]
  },
  {
   "cell_type": "code",
   "execution_count": 21,
   "metadata": {},
   "outputs": [],
   "source": [
    "def householder_fast(A):\n",
    "    \"\"\"This function takes a m x n matrix A and uses the Householder method to compute the upper triangular n x n matrix R and stores the reflection vectors v\"\"\"\n",
    "    \n",
    "    R = np.copy(A)  #initialize R\n",
    "    V = []  #create empty list to store reflection vectors\n",
    "    \n",
    "    for i in range(np.min(np.shape(A))):  #loop over columns\n",
    "        e = np.zeros(np.max(np.shape(A)))  ##create e_i-vector\n",
    "        e[i] = 1\n",
    "        \n",
    "        a_i = np.copy(R[:,i])  #make a copy of the i'th column in R\n",
    "        a_i[:i] = 0  #set all indices above i to zero\n",
    "        \n",
    "        v_i = a_i - np.copysign(np.linalg.norm(a_i) * e, -a_i[0])  #compute vector v for the i'th column\n",
    "        V.append(v_i)  #append vector v to list V\n",
    "        \n",
    "        if np.dot(v_i,v_i) == 0:  #skip current column if it is already zero\n",
    "            continue\n",
    "        \n",
    "        for j in range(i, np.min(np.shape(A))):  #apply Householder transformation to remaining columns in R\n",
    "            R[:,j] -= ((2 * np.dot(v_i, R[:,j])) / np.dot(v_i, v_i)) * v_i\n",
    "                      \n",
    "    R = R[:np.min(np.shape(A)),:]  #remove bottom rows that are zero\n",
    "    \n",
    "    return V, R"
   ]
  },
  {
   "cell_type": "code",
   "execution_count": 22,
   "metadata": {},
   "outputs": [
    {
     "name": "stdout",
     "output_type": "stream",
     "text": [
      "[[-1.732  0.577  0.577]\n",
      " [ 0.    -1.633  0.816]\n",
      " [ 0.     0.    -1.414]] \n",
      "\n"
     ]
    }
   ],
   "source": [
    "#test function with example 3.8 in Heath\n",
    "V, R = householder_fast(Aex)\n",
    "\n",
    "print(np.round(R, 3), \"\\n\")  #print resulting R matrix rounded to 3 diget accuracy"
   ]
  },
  {
   "cell_type": "code",
   "execution_count": 23,
   "metadata": {},
   "outputs": [
    {
     "name": "stdout",
     "output_type": "stream",
     "text": [
      "[[-5.916 -7.437]\n",
      " [ 0.    -0.828]] \n",
      "\n"
     ]
    }
   ],
   "source": [
    "#test function with matrix A1\n",
    "\n",
    "V, R = householder_fast(A1)\n",
    "\n",
    "print(np.round(R_square, 3), \"\\n\")  #print resulting R matrix rounded to 3 diget accuracy"
   ]
  },
  {
   "cell_type": "markdown",
   "metadata": {},
   "source": [
    "## 3)"
   ]
  },
  {
   "cell_type": "code",
   "execution_count": 24,
   "metadata": {},
   "outputs": [],
   "source": [
    "def least_squares(A, b):\n",
    "    \"\"\"This function takes a m x n matrix A and a m vector b and returns the least squares solution n vector x_tilde to A*x_tilde=b and the residual r\"\"\"\n",
    "    \n",
    "    b = np.copy(b)  #initialize b\n",
    "    V, R = householder_fast(A)  #compute reflection vectors and matrix R\n",
    "    \n",
    "    for i in range(len(V)):  #loop over reflection vectors\n",
    "        b = b - ((2 * np.dot(V[i], b)) / np.dot(V[i], V[i])) * V[i]  #update right hand side by applying Householder transformation to b\n",
    "    \n",
    "    x_tilde = back_substitute(R, b[:np.min(np.shape(A))])  #compute x_tilde using back substitution on R and the first n entries in b\n",
    "    \n",
    "    r = np.linalg.norm(b[np.min(np.shape(A)):np.max(np.shape(A))])  #compute residual as the norm of the remaining entries in b\n",
    "\n",
    "    return x_tilde, r  "
   ]
  },
  {
   "cell_type": "code",
   "execution_count": 25,
   "metadata": {},
   "outputs": [
    {
     "name": "stdout",
     "output_type": "stream",
     "text": [
      "x_tilde = [1236. 1943. 2416.]\n",
      "residual = 5.916\n"
     ]
    }
   ],
   "source": [
    "#test function with example 3.8 in Heath\n",
    "Aex = np.array([[1, 0, 0], [0, 1, 0],  [0,0,1], [-1, 1, 0], [-1, 0, 1], [0, -1, 1]], dtype = float)\n",
    "bex = np.array([1237, 1941, 2417, 711, 1177, 475], dtype = float)\n",
    "\n",
    "x, r = least_squares(Aex, bex)\n",
    "\n",
    "print(\"x_tilde =\", np.round(x, 3))  #print solution rounded to 3 diget accuracy\n",
    "print(\"residual =\", np.round(r, 3))  #print residual rounded to 3 digets"
   ]
  },
  {
   "cell_type": "code",
   "execution_count": 26,
   "metadata": {},
   "outputs": [
    {
     "name": "stdout",
     "output_type": "stream",
     "text": [
      "x_tilde = [-0.   0.5]\n",
      "residual = 0.0\n"
     ]
    }
   ],
   "source": [
    "#test function with matrix A1\n",
    "\n",
    "x, r = least_squares(A1, b1)\n",
    "\n",
    "print(\"x_tilde =\", np.round(x, 3))  #print solution rounded to 3 diget accuracy\n",
    "print(\"residual =\", np.round(r, 3))  #print residual rounded to 3 digets"
   ]
  },
  {
   "cell_type": "markdown",
   "metadata": {},
   "source": [
    "# Problem g"
   ]
  },
  {
   "cell_type": "markdown",
   "metadata": {},
   "source": [
    "## 1)"
   ]
  },
  {
   "cell_type": "code",
   "execution_count": 27,
   "metadata": {},
   "outputs": [],
   "source": [
    "omega_p = 1.1  #choose omega_p smaller than 1.146 to avoid singularity"
   ]
  },
  {
   "cell_type": "markdown",
   "metadata": {},
   "source": [
    "## 2, 3)"
   ]
  },
  {
   "cell_type": "code",
   "execution_count": 28,
   "metadata": {},
   "outputs": [],
   "source": [
    "N = 1000  #number of frequency points\n",
    "\n",
    "omega = np.linspace(0.7, omega_p, N)  #array of N evenly spaced values of omega from 0.7 to omega_p\n",
    "alpha = alpha_array(omega)  #calculate array of polarizabilities\n",
    "\n",
    "def P(freq, alpha, n):\n",
    "    \"\"\"This function takes an array of frequencies, an array of polarizabilities and the parameter n which is related to the number of terms in the polynomial and creates a linear least squares fit to the polynomial P. The function returns the polynomial, the residual of the fit and an array of the coefficients a_j.\"\"\"\n",
    "    \n",
    "    A = np.zeros((len(freq), n+1))  #initialize matrix of linear system\n",
    "\n",
    "    for i in range(n+1):  #loop over columns in A\n",
    "        A[:,i] = freq**(2*i)  #create each column in A\n",
    "\n",
    "    a_j, r = least_squares(A, alpha)  #perform linear least squares fit\n",
    "    \n",
    "    P = 0  #initialize polynomial\n",
    "    \n",
    "    for i in range(n+1):  #construct polynomial from coefficients a_j\n",
    "        P = P + a_j[i] * freq**(2*i)\n",
    "        \n",
    "    return P, r, a_j"
   ]
  },
  {
   "cell_type": "code",
   "execution_count": 29,
   "metadata": {},
   "outputs": [
    {
     "name": "stdout",
     "output_type": "stream",
     "text": [
      "coefficients = [ -27.71   50.11   74.46 -189.12   97.61]\n",
      "mean(log(relative error)) = -2.836478856099302\n",
      "residual = 9.474\n"
     ]
    },
    {
     "data": {
      "image/png": "[encoded data removed]",
      "text/plain": [
       "<Figure size 432x288 with 1 Axes>"
      ]
     },
     "metadata": {
      "needs_background": "light"
     },
     "output_type": "display_data"
    },
    {
     "data": {
      "image/png": "[encoded data removed]",
      "text/plain": [
       "<Figure size 432x288 with 1 Axes>"
      ]
     },
     "metadata": {
      "needs_background": "light"
     },
     "output_type": "display_data"
    }
   ],
   "source": [
    "P4, r4, a4 = P(omega, alpha, 4)  #solve for polynomial and residual for n = 4\n",
    "\n",
    "#plot fit and data\n",
    "plt.plot(omega, P4, label=\"polynomial fit\")\n",
    "plt.plot(omega, alpha, \"--\", label=\"data points\")\n",
    "plt.xlabel(\"$\\omega$\")\n",
    "plt.ylabel(\"polarizability\")\n",
    "plt.title(\"Polynomial fit for n=4\")\n",
    "plt.legend()\n",
    "\n",
    "rel_error4 = np.log(np.abs((P4-alpha)/alpha))  #calculate log(relative error)\n",
    "mean_rel_error4 = np.mean(rel_error4)  #calculate the mean value of log(relative error)\n",
    "\n",
    "#plot log(relative error)\n",
    "plt.figure()\n",
    "plt.plot(omega, rel_error4)\n",
    "plt.xlabel(\"$\\omega$\")\n",
    "plt.ylabel(\"log (relative error)\")\n",
    "plt.title(\"Relative error for n=4\")\n",
    "\n",
    "print(\"coefficients =\", np.round(a4, 2))  #print coefficients of fit\n",
    "print(\"mean(log(relative error)) =\", mean_rel_error4)  #print the mean value of log(relative error)\n",
    "print(\"residual =\", np.round(r4, 3))  #print residual"
   ]
  },
  {
   "cell_type": "code",
   "execution_count": 30,
   "metadata": {},
   "outputs": [
    {
     "name": "stdout",
     "output_type": "stream",
     "text": [
      "coefficients = [ -491.53  3090.12 -7774.06  9866.05 -6430.7   1873.79  -128.1 ]\n",
      "mean(log(relative error)) = -4.011916911615588\n",
      "residual = 2.959\n"
     ]
    },
    {
     "data": {
      "image/png": "[encoded data removed]",
      "text/plain": [
       "<Figure size 432x288 with 1 Axes>"
      ]
     },
     "metadata": {
      "needs_background": "light"
     },
     "output_type": "display_data"
    },
    {
     "data": {
      "image/png": "[encoded data removed]",
      "text/plain": [
       "<Figure size 432x288 with 1 Axes>"
      ]
     },
     "metadata": {
      "needs_background": "light"
     },
     "output_type": "display_data"
    }
   ],
   "source": [
    "P6, r6, a6 = P(omega, alpha, 6)  #solve for polynomial and residual for n = 6\n",
    "\n",
    "#plot fit and data\n",
    "plt.plot(omega, P6, label=\"polynomial fit\")\n",
    "plt.plot(omega, alpha, \"--\", label=\"data points\")\n",
    "plt.xlabel(\"$\\omega$\")\n",
    "plt.ylabel(\"polarizability\")\n",
    "plt.title(\"Polynomial fit for n=6\")\n",
    "plt.legend()\n",
    "\n",
    "rel_error6 = np.log(np.abs((P6-alpha)/alpha))  #calculate log(relative error)\n",
    "mean_rel_error6 = np.mean(rel_error6)  #calculate the mean value of log(relative error)\n",
    "\n",
    "#plot log(relative error)\n",
    "plt.figure()\n",
    "plt.plot(omega, rel_error6)\n",
    "plt.xlabel(\"$\\omega$\")\n",
    "plt.ylabel(\"log (relative error)\")\n",
    "plt.title(\"Relative error for n=6\")\n",
    "\n",
    "print(\"coefficients =\", np.round(a6, 2))  #print coefficients of fit\n",
    "print(\"mean(log(relative error)) =\", mean_rel_error6)  #print the mean value of log(relative error)\n",
    "print(\"residual =\", np.round(r6,3))  #print residual"
   ]
  },
  {
   "cell_type": "markdown",
   "metadata": {},
   "source": [
    "# Problem h"
   ]
  },
  {
   "cell_type": "markdown",
   "metadata": {},
   "source": [
    "## 2)"
   ]
  },
  {
   "cell_type": "code",
   "execution_count": 31,
   "metadata": {},
   "outputs": [],
   "source": [
    "N = 1000  #number of frequency points\n",
    "omega_new = np.linspace(0.7, 1.5, N)  #array of N evenly spaced values of omega from 0.7 to 1.5\n",
    "\n",
    "alpha_new = alpha_array(omega_new)  #calculate array of polarizabilities\n",
    "\n",
    "\n",
    "def Q(freq, alpha, n):\n",
    "    \"\"\"This function takes an array of frequencies, an array of polarizabilities and the parameter n which is related to the number of terms in the rational function and creates a linear least squares fit to the rational function Q. The function returns the rational function, the residual of the fit and arrays with the coefficients a_j and b_j.\"\"\"\n",
    "    \n",
    "    A = np.zeros((N, 2*n+1))  #initialize matrix of the linear system\n",
    "    \n",
    "    for i in range(n+1):  #create the first n+1 columns in A\n",
    "        A[:,i] = freq**i\n",
    "    \n",
    "    for i in range(1, n+1):  #create the last n columns in A\n",
    "        A[:,i+n] = - alpha * freq**i\n",
    "\n",
    "    c, r = least_squares(A, alpha)  #perform linear least squares fit\n",
    "    \n",
    "    a_j = c[:n+1]  #the first n+1 entries in c are the a-coefficients\n",
    "    b_j = c[n+1:]  #the last n entries in c are the b-coefficients\n",
    "\n",
    "    numerator = 0  #initialize numerator in rational function\n",
    "    for i in range(n+1):  #calculate numerator in rational function\n",
    "        numerator = numerator + a_j[i] * freq**i\n",
    "    \n",
    "    denominator = 1  #initialize denominator in rational function\n",
    "    for i in range(n):  #calculate denominator in rational function\n",
    "        denominator = denominator + b_j[i] * freq**(i+1)\n",
    "        \n",
    "    Q = numerator / denominator  #create rational function\n",
    "        \n",
    "    return Q, r, a_j, b_j"
   ]
  },
  {
   "cell_type": "code",
   "execution_count": 32,
   "metadata": {},
   "outputs": [
    {
     "name": "stdout",
     "output_type": "stream",
     "text": [
      "a_j = [ 1.928 -3.453  1.144]\n",
      "b_j = [-2.394  1.327]\n",
      "mean(log(relative error)) = -3.969735537905016\n",
      "residual = 0.377\n"
     ]
    },
    {
     "data": {
      "image/png": "[encoded data removed]",
      "text/plain": [
       "<Figure size 432x288 with 1 Axes>"
      ]
     },
     "metadata": {
      "needs_background": "light"
     },
     "output_type": "display_data"
    },
    {
     "data": {
      "image/png": "[encoded data removed]",
      "text/plain": [
       "<Figure size 432x288 with 1 Axes>"
      ]
     },
     "metadata": {
      "needs_background": "light"
     },
     "output_type": "display_data"
    }
   ],
   "source": [
    "Q2, r2_new, a2_new, b2_new = Q(omega_new, alpha_new, 2)  #solve for rational function and residual for n = 2\n",
    "\n",
    "#plot fit and data\n",
    "plt.plot(omega_new, Q2, label=\"rational function fit\")\n",
    "plt.plot(omega_new, alpha_new, \"--\", label=\"data points\")\n",
    "plt.xlabel(\"$\\omega$\")\n",
    "plt.ylabel(\"polarizability\")\n",
    "plt.title(\"Rational function fit for n=2\")\n",
    "plt.legend()\n",
    "\n",
    "rel_error2_new = np.log(np.abs((Q2-alpha_new)/alpha_new))  #calculate log(relative error)\n",
    "mean_rel_error2_new = np.mean(rel_error2_new)  #calculate the mean value of log(relative error)\n",
    "\n",
    "#plot log(relative error)\n",
    "plt.figure()\n",
    "plt.plot(omega_new, rel_error2_new)\n",
    "plt.xlabel(\"$\\omega$\")\n",
    "plt.ylabel(\"log (relative error)\")\n",
    "plt.title(\"Relative error for n=2\")\n",
    "\n",
    "print(\"a_j =\", np.round(a2_new, 3))  #print a_j coefficients of fit\n",
    "print(\"b_j =\", np.round(b2_new, 3))  #print b_j coefficients of fit\n",
    "print(\"mean(log(relative error)) =\", mean_rel_error2_new)  #print the mean value of log(relative error)\n",
    "print(\"residual =\", np.round(r2_new, 3))  #print residual"
   ]
  },
  {
   "cell_type": "code",
   "execution_count": 33,
   "metadata": {},
   "outputs": [
    {
     "name": "stdout",
     "output_type": "stream",
     "text": [
      "a_j = [ 1.972 -3.894  1.614  0.055 -0.009]\n",
      "b_j = [-2.    -0.171  1.921 -0.798]\n",
      "mean(log(relative error)) = -15.906144211126486\n",
      "residual = 1.02e-06\n"
     ]
    },
    {
     "data": {
      "image/png": "[encoded data removed]",
      "text/plain": [
       "<Figure size 432x288 with 1 Axes>"
      ]
     },
     "metadata": {
      "needs_background": "light"
     },
     "output_type": "display_data"
    },
    {
     "data": {
      "image/png": "[encoded data removed]",
      "text/plain": [
       "<Figure size 432x288 with 1 Axes>"
      ]
     },
     "metadata": {
      "needs_background": "light"
     },
     "output_type": "display_data"
    }
   ],
   "source": [
    "Q4, r4_new, a4_new, b4_new = Q(omega_new, alpha_new, 4)  #solve for rational function and residual for n = 2\n",
    "\n",
    "#plot fit and data\n",
    "plt.plot(omega_new, Q4, label=\"rational function fit\")\n",
    "plt.plot(omega_new, alpha_new, label=\"data points\")\n",
    "plt.xlabel(\"$\\omega$\")\n",
    "plt.ylabel(\"polarizability\")\n",
    "plt.title(\"Rational function fit for n=4\")\n",
    "plt.legend()\n",
    "\n",
    "rel_error4_new = np.log(np.abs((Q4-alpha_new)/alpha_new))  #calculate log(relative error)\n",
    "mean_rel_error4_new = np.mean(rel_error4_new)  #calculate the mean value of log(relative error)\n",
    "\n",
    "#plot log(relative error)\n",
    "plt.figure()\n",
    "plt.plot(omega_new, rel_error4_new)\n",
    "plt.xlabel(\"$\\omega$\")\n",
    "plt.ylabel(\"log (relative error)\")\n",
    "\n",
    "plt.title(\"Relative error for n=4\")\n",
    "\n",
    "print(\"a_j =\", np.round(a4_new, 3))  #print a_j coefficients of fit\n",
    "print(\"b_j =\", np.round(b4_new, 3))  #print b_j coefficients of fit\n",
    "print(\"mean(log(relative error)) =\", mean_rel_error4_new)  #print the mean value of log(relative error)\n",
    "print(\"residual =\", np.round(r4_new,8))  #print residual"
   ]
  },
  {
   "cell_type": "markdown",
   "metadata": {},
   "source": [
    "## 3)"
   ]
  },
  {
   "cell_type": "code",
   "execution_count": 34,
   "metadata": {},
   "outputs": [
    {
     "data": {
      "text/plain": [
       "Text(0.5, 1.0, 'Polarizability as a function of frequency')"
      ]
     },
     "execution_count": 34,
     "metadata": {},
     "output_type": "execute_result"
    },
    {
     "data": {
      "image/png": "[encoded data removed]",
      "text/plain": [
       "<Figure size 432x288 with 1 Axes>"
      ]
     },
     "metadata": {
      "needs_background": "light"
     },
     "output_type": "display_data"
    }
   ],
   "source": [
    "N = 1000  #number of frequency points\n",
    "\n",
    "omega_long = np.linspace(-4, 4, N)  #array of N evenly spaced values of omega from -4 to 4\n",
    "\n",
    "alpha_long = alpha_array(omega_long)  #calculate polarizabilities\n",
    "\n",
    "#plot polarizability as a function of frequency in the long interval\n",
    "plt.plot(omega_long, alpha_long)\n",
    "plt.xlabel(\"$\\omega$\")\n",
    "plt.ylabel(\"polarizability\")\n",
    "plt.title(\"Polarizability as a function of frequency\")"
   ]
  },
  {
   "cell_type": "code",
   "execution_count": 35,
   "metadata": {},
   "outputs": [],
   "source": [
    "def Q_even(freq, alpha, n):\n",
    "    \"\"\"This function takes an array of frequencies, an array of polarizabilities and the parameter n which is related to the number of terms in the even rational function and creates a linear least squares fit to the even rational function Q. The function returns the even rational function, the residual of the fit and arrays with the coefficients a_j and b_j.\"\"\"\n",
    "    \n",
    "    A = np.zeros((N, 2*n+1))  #initialize matrix of the linear system\n",
    "    \n",
    "    for i in range(n+1):  #create the first n+1 columns in A\n",
    "        A[:,i] = freq**(2*i)\n",
    "    \n",
    "    for i in range(1, n+1):  #create the last n columns in A\n",
    "        A[:,i+n] = - alpha * freq**(2*i)\n",
    "\n",
    "    c, r = least_squares(A, alpha)  #perform linear least squares fit\n",
    "    \n",
    "    a_j = c[:n+1]  #the first n+1 entries in c are the a-coefficients\n",
    "    b_j = c[n+1:]  #the last n entries in c are the b-coefficients\n",
    "\n",
    "    numerator = 0  #initialize numerator in rational function\n",
    "    for i in range(n+1):  #calculate numerator in rational function\n",
    "        numerator = numerator + a_j[i] * freq**(2*i)\n",
    "    \n",
    "    denominator = 1  #initialize denominator in rational function\n",
    "    for i in range(n):  #calculate denominator in rational function\n",
    "        denominator = denominator + b_j[i] * freq**(2*(i+1))\n",
    "        \n",
    "    Q = numerator / denominator  #create rational function\n",
    "        \n",
    "    return Q, r, a_j, b_j"
   ]
  },
  {
   "cell_type": "code",
   "execution_count": 36,
   "metadata": {},
   "outputs": [
    {
     "name": "stdout",
     "output_type": "stream",
     "text": [
      "a_j = [ 1.998e+00 -4.497e+00  1.497e+00 -3.000e-03]\n",
      "b_j = [-3.37   2.847 -0.655]\n",
      "mean(log(relative error)) = -6.724549634433038\n",
      "residual = 0.501187\n"
     ]
    },
    {
     "data": {
      "image/png": "[encoded data removed]",
      "text/plain": [
       "<Figure size 432x288 with 1 Axes>"
      ]
     },
     "metadata": {
      "needs_background": "light"
     },
     "output_type": "display_data"
    },
    {
     "data": {
      "image/png": "[encoded data removed]",
      "text/plain": [
       "<Figure size 432x288 with 1 Axes>"
      ]
     },
     "metadata": {
      "needs_background": "light"
     },
     "output_type": "display_data"
    }
   ],
   "source": [
    "Q_long, r_long, a_long, b_long = Q_even(omega_long, alpha_long, 3)  #solve for even rational function and residual on the long interval\n",
    "\n",
    "#plot fit and data\n",
    "plt.plot(omega_long, Q_long, label=\"even rational function fit\")\n",
    "plt.plot(omega_long, alpha_long, \"--\", label=\"data points\")\n",
    "plt.xlabel(\"$\\omega$\")\n",
    "plt.ylabel(\"polarizability\")\n",
    "plt.title(\"Even rational function fit for n=3 on the long interval\")\n",
    "plt.legend()\n",
    "\n",
    "rel_error_long = np.log(np.abs((Q_long-alpha_long)/alpha_long))  #calculate log(relative error)\n",
    "mean_rel_error_long = np.mean(rel_error_long)  #calculate the mean value of log(relative error)\n",
    "\n",
    "#plot log(relative error)\n",
    "plt.figure()\n",
    "plt.plot(omega_long, rel_error_long)\n",
    "plt.xlabel(\"$\\omega$\")\n",
    "plt.ylabel(\"log (relative error)\")\n",
    "plt.title(\"Relative error for n=3 on the long interval\")\n",
    "\n",
    "print(\"a_j =\", np.round(a_long, 3))  #print a_j coefficients of fit\n",
    "print(\"b_j =\", np.round(b_long, 3))  #print b_j coefficients of fit\n",
    "print(\"mean(log(relative error)) =\", mean_rel_error_long)  #print the mean value of log(relative error)\n",
    "print(\"residual =\", np.round(r_long, 6))  #print residual"
   ]
  },
  {
   "cell_type": "code",
   "execution_count": null,
   "metadata": {},
   "outputs": [],
   "source": []
  },
  {
   "cell_type": "code",
   "execution_count": null,
   "metadata": {},
   "outputs": [],
   "source": []
  }
 ],
 "metadata": {
  "kernelspec": {
   "display_name": "Python 3 (ipykernel)",
   "language": "python",
   "name": "python3"
  },
  "language_info": {
   "codemirror_mode": {
    "name": "ipython",
    "version": 3
   },
   "file_extension": ".py",
   "mimetype": "text/x-python",
   "name": "python",
   "nbconvert_exporter": "python",
   "pygments_lexer": "ipython3",
   "version": "3.9.6"
  }
 },
 "nbformat": 4,
 "nbformat_minor": 4
}
