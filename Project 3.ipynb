{
 "cells": [
  {
   "cell_type": "code",
   "execution_count": 1,
   "metadata": {},
   "outputs": [],
   "source": [
    "import numpy as np\n",
    "import matplotlib.pyplot as plt\n",
    "from mpl_toolkits import mplot3d"
   ]
  },
  {
   "cell_type": "code",
   "execution_count": 2,
   "metadata": {},
   "outputs": [],
   "source": [
    "from numpy import newaxis, fill_diagonal, sum, sqrt\n",
    "NA = newaxis\n",
    "\n",
    "# Experimental values for Argon atoms\n",
    "EPSILON=0.997; # kJ/mol\n",
    "SIGMA=  3.401; # Ångstrom\n",
    "\n",
    "\n",
    "def distance(points):\n",
    "    # points: (N,3)-array of (x,y,z) coordinates for N points\n",
    "    # distance(points): returns (N,N)-array of inter-point distances:\n",
    "    displacement = points[:, NA] - points[NA, :]\n",
    "    return sqrt(sum(displacement*displacement, axis=-1))\n",
    "\n",
    "\n",
    "def LJ(sigma=SIGMA, epsilon=EPSILON):\n",
    "    def V(points):\n",
    "        # points: (N,3)-array of (x,y,z) coordinates for N points\n",
    "        dist = distance(points)\n",
    "\n",
    "        # Fill diagonal with 1, so we don't divide by zero\n",
    "        fill_diagonal(dist, 1)\n",
    "\n",
    "        # dimensionless reciprocal distance\n",
    "        f = sigma/dist\n",
    "\n",
    "        # calculate the interatomic potentials\n",
    "        pot = 4*epsilon*(f**12 - f**6)\n",
    "\n",
    "        # Undo any diagonal terms (the particles don't interact with themselves)\n",
    "        fill_diagonal(pot, 0)\n",
    "\n",
    "        # We could return the sum of just the upper triangular part, corresponding\n",
    "        # to equation 2 in the assignment text. But since the matrix is symmetric,\n",
    "        # we can just sum over all elements and divide by 2\n",
    "        return sum(pot)/2\n",
    "    return V\n",
    "\n",
    "\n",
    "def LJgradient(sigma=SIGMA, epsilon=EPSILON):\n",
    "    def gradV(X):\n",
    "        d = X[:, NA] - X[NA, :]\n",
    "        r = sqrt(sum(d*d, axis=-1))\n",
    "\n",
    "        fill_diagonal(r, 1)\n",
    "\n",
    "        T = 6*(sigma**6)*(r**-7)-12*(sigma**12)*(r**-13)\n",
    "        # (N,N)−matrix of r−derivatives\n",
    "        # Using the chain rule , we turn the (N,N)−matrix of r−derivatives into\n",
    "        # the (N,3)−array of derivatives to Cartesian coordinate: the gradient.\n",
    "        # (Automatically sets diagonal to (0,0,0) = X[ i]−X[ i ])\n",
    "        u = d/r[:, :, NA]\n",
    "        # u is (N,N,3)−array of unit vectors in direction of X[ i ]−X[ j ]\n",
    "        return 4*epsilon*sum(T[:, :, NA]*u, axis=1)\n",
    "    return gradV\n",
    "\n",
    "\n",
    "# wrapper functions to generate \"flattened\" versions of the potential and gradient.\n",
    "def flatten_function(f):\n",
    "    return lambda x: f(x.reshape(-1, 3))\n",
    "\n",
    "\n",
    "def flatten_gradient(f):\n",
    "    return lambda x: f(x.reshape(-1, 3)).reshape(-1)\n",
    "\n",
    "# potential and gradient with values for Argon\n",
    "V = LJ()\n",
    "gradV = LJgradient()\n",
    "\n",
    "# Flattened potential and gradient.\n",
    "flat_V     = flatten_function(V)\n",
    "flat_gradV = flatten_gradient(gradV)\n"
   ]
  },
  {
   "cell_type": "code",
   "execution_count": 3,
   "metadata": {},
   "outputs": [],
   "source": [
    "# This cell contains my QR solver from project 1\n",
    "\n",
    "def householder_fast(A):\n",
    "    \"\"\"This function takes a m x n matrix A and uses the Householder method to compute the upper triangular n x n matrix R and stores the reflection vectors v\"\"\"\n",
    "    \n",
    "    R = np.copy(A)  #initialize R\n",
    "    V = []  #create empty list to store reflection vectors\n",
    "    \n",
    "    for i in range(np.min(np.shape(A))):  #loop over columns\n",
    "        e = np.zeros(np.max(np.shape(A)))  #create e_i-vector\n",
    "        e[i] = 1\n",
    "        \n",
    "        a_i = np.copy(R[:,i])  #make a copy of the i'th column in R\n",
    "        a_i[:i] = 0  #set all indices above i to zero\n",
    "        \n",
    "        v_i = a_i - np.copysign(np.linalg.norm(a_i) * e, -a_i[0])  #compute vector v for the i'th column\n",
    "        \n",
    "        V.append(v_i)  #append vector v to list V\n",
    "        \n",
    "        if np.dot(v_i,v_i) == 0:  #skip current column if it is already zero\n",
    "            continue\n",
    "        \n",
    "        for j in range(i, np.min(np.shape(A))):  #apply Householder transformation to remaining columns in R\n",
    "            R[:,j] -= ((2 * np.dot(v_i, R[:,j])) / np.dot(v_i, v_i)) * v_i\n",
    "                      \n",
    "    R = R[:np.min(np.shape(A)),:]  #remove bottom rows that are zero\n",
    "    \n",
    "    return V, R\n",
    "\n",
    "\n",
    "def back_substitute(U,y):\n",
    "    \"\"\"This function takes a square upper triangular matrix U and a vector y and returns the solution vector x to the system Ux=y\"\"\"\n",
    "    \n",
    "    y = np.copy(y)  #initialize y\n",
    "    x = np.zeros(len(U))  #initialize solution x\n",
    "    singular_matrix = False  #initialize test for singular matrix\n",
    "\n",
    "    for j in range(len(U)-1,-1,-1):  #loop backwards over columns in U\n",
    "        if U[j,j] == 0:\n",
    "            print(\"singular matrix\")\n",
    "            #singular_matrix = True\n",
    "            #break  #stop if the matrix is singular\n",
    "        \n",
    "        x[j] = y[j] / U[j,j]  #calculate the j-component of the solution\n",
    "        \n",
    "        for i in range(j):  #loop over the j first rows in U\n",
    "            y[i] = y[i] - U[i,j] * x[j]  #update y\n",
    "    \n",
    "    return x, singular_matrix\n",
    "\n",
    "\n",
    "def qr_solve(A, b):\n",
    "    \"\"\"This function takes a m x n matrix A and an m vector b and returns the least squares solution n vector x_tilde to A*x_tilde=b and the residual r\"\"\"\n",
    "    \n",
    "    b = np.copy(b)  #initialize b\n",
    "    V, R = householder_fast(A)  #compute reflection vectors and matrix R\n",
    "    \n",
    "    for i in range(len(V)):  #loop over reflection vectors\n",
    "        \n",
    "        if np.dot(V[i],V[i]) == 0:  #skip current column if it is already zero\n",
    "            continue\n",
    "        \n",
    "        b -= ((2 * np.dot(V[i], b)) / np.dot(V[i], V[i])) * V[i]  #update right hand side by applying Householder transformation to b\n",
    "    \n",
    "    x_tilde, singular_matrix = back_substitute(R, b[:np.min(np.shape(A))])  #compute x_tilde using back substitution on R and the first n entries in b\n",
    "    \n",
    "    r = np.linalg.norm(b[np.min(np.shape(A)):np.max(np.shape(A))])  #compute residual as the norm of the remaining entries in b\n",
    "\n",
    "    return x_tilde, r, singular_matrix"
   ]
  },
  {
   "cell_type": "code",
   "execution_count": 4,
   "metadata": {},
   "outputs": [],
   "source": [
    "# This cell contains the 3D plotting functions provided in the problem set\n",
    "\n",
    "# Experimental value for sigma (in Ånsgtrom)\n",
    "SIGMA = 3.401\n",
    "# Length of minimal potential strength\n",
    "minlen = 2**(1/6) * SIGMA\n",
    "\n",
    "\n",
    "# Helper functions for pretty 3d plots easily\n",
    "def create_3d_plot():\n",
    "    # We need to pass this dictionary to all subplots we create, so the axes becomes 3D\n",
    "    plot_dict = dict(projection='3d')\n",
    "    fig, ax = plt.subplots(subplot_kw=plot_dict)\n",
    "    return fig, ax\n",
    "\n",
    "\n",
    "def make_axis_equal(ax):\n",
    "    # It is incredibly annoying to get an equal aspect ratio in 3d using matplotlib\n",
    "    # What we need to do is set all the coordinate axis limits equal. This function does just that.\n",
    "    x1, x2 = ax.get_xlim()\n",
    "    y1, y2 = ax.get_ylim()\n",
    "    z1, z2 = ax.get_zlim()\n",
    "    \n",
    "    m1 = min(x1, y1, z1)\n",
    "    m2 = max(x2, y2, z2)\n",
    "    ax.set_xlim(m1, m2)\n",
    "    ax.set_ylim(m1, m2)\n",
    "    ax.set_zlim(m1, m2)\n",
    "    \n",
    "    # Also, we need to use orthographic projection instead of perspective projection\n",
    "    ax.set_proj_type(\"ortho\")\n",
    "    return ax\n",
    "\n",
    "\n",
    "def transparent_axis_background(ax):\n",
    "    # make the panes transparent\n",
    "    ax.xaxis.set_pane_color((1.0, 1.0, 1.0, 0.0))\n",
    "    ax.yaxis.set_pane_color((1.0, 1.0, 1.0, 0.0))\n",
    "    ax.zaxis.set_pane_color((1.0, 1.0, 1.0, 0.0))\n",
    "    # make the grid lines transparent\n",
    "    ax.xaxis._axinfo[\"grid\"]['color'] =  (1,1,1,0)\n",
    "    ax.yaxis._axinfo[\"grid\"]['color'] =  (1,1,1,0)\n",
    "    ax.zaxis._axinfo[\"grid\"]['color'] =  (1,1,1,0)\n",
    "    # Disable the axes\n",
    "    ax.axis(\"off\")\n",
    "    return ax\n",
    "\n",
    "\n",
    "def plot_min_distances(ax, points, cutoff=1.01*minlen):\n",
    "    # points: (N,3)-array of (x,y,z) coordinates for N points\n",
    "    # distance(points): returns (N,N)-array of inter-point distances:\n",
    "    displacement = points[:, np.newaxis] - points[np.newaxis, :]\n",
    "    r = np.sqrt(np.sum(displacement*displacement, axis=-1))\n",
    "    \n",
    "    # Grab only those that are in upper triangular part\n",
    "    r = np.triu(r)\n",
    "    \n",
    "    # Grab lengths that are above 0, but below the cutoff\n",
    "    mask = (r <= cutoff) * (r > 0)\n",
    "    \n",
    "    # Grab the indices of elements that satisfy the mask above\n",
    "    ii, jj = np.where(mask)\n",
    "    \n",
    "    # For each pair of indices (corresponding to a distance close to optimal)\n",
    "    # we plot a line between the corresponding points\n",
    "    for i, j in zip(ii, jj):\n",
    "        p = points[[i, j]]\n",
    "        ax.plot(*p.T, color='k', ls=\"-\")\n",
    "    return ax\n",
    "\n",
    "\n",
    "def create_base_plot(points):\n",
    "    # Create the figure and 3D axis\n",
    "    fig, ax = create_3d_plot()\n",
    "    \n",
    "    # translate points so centre of mass is at origin\n",
    "    m = np.mean(points, axis=0)\n",
    "    points = np.array(points) - m[np.newaxis, :]\n",
    "    \n",
    "    # Plot points and lines between points that are near to optimal\n",
    "    ax.scatter(*points.T)\n",
    "    ax = plot_min_distances(ax, points)\n",
    "    return ax, points\n",
    "\n",
    "\n",
    "def make_plot_pretty(ax):\n",
    "    # Make the plot pretty\n",
    "    ax = transparent_axis_background(ax)\n",
    "    ax = make_axis_equal(ax)\n",
    "    return ax"
   ]
  },
  {
   "cell_type": "markdown",
   "metadata": {},
   "source": [
    "# 2.1 Solving Nonlinear Equations in 1D"
   ]
  },
  {
   "cell_type": "markdown",
   "metadata": {},
   "source": [
    "## Problem a"
   ]
  },
  {
   "cell_type": "code",
   "execution_count": 5,
   "metadata": {},
   "outputs": [
    {
     "data": {
      "text/plain": [
       "Text(0.5, 1.0, 'Potential strength between two particles')"
      ]
     },
     "execution_count": 5,
     "metadata": {},
     "output_type": "execute_result"
    },
    {
     "data": {
      "image/png": "[encoded data removed]",
      "text/plain": [
       "<Figure size 432x288 with 1 Axes>"
      ]
     },
     "metadata": {
      "needs_background": "light"
     },
     "output_type": "display_data"
    }
   ],
   "source": [
    "pot2 = lambda x: V(np.array([[x, 0, 0], [0, 0, 0]]))  #this function calculates the potential between two particles\n",
    "x = np.linspace(3, 11, 1000)  #position values\n",
    "\n",
    "pot2_array = np.zeros(len(x))  #initialize array for potential values\n",
    "for i in range(len(x)):  #calculate potential for each position x\n",
    "    pot2_array[i] = pot2(x[i])\n",
    "\n",
    "#plot potential as a function of position (two particles)\n",
    "plt.plot(x, pot2_array)\n",
    "plt.xlabel(\"x\")\n",
    "plt.ylabel(\"potential strength\")\n",
    "plt.title(\"Potential strength between two particles\")"
   ]
  },
  {
   "cell_type": "code",
   "execution_count": 6,
   "metadata": {},
   "outputs": [
    {
     "data": {
      "text/plain": [
       "Text(0.5, 1.0, 'Potential strength between four particles')"
      ]
     },
     "execution_count": 6,
     "metadata": {},
     "output_type": "execute_result"
    },
    {
     "data": {
      "image/png": "[encoded data removed]",
      "text/plain": [
       "<Figure size 432x288 with 1 Axes>"
      ]
     },
     "metadata": {
      "needs_background": "light"
     },
     "output_type": "display_data"
    }
   ],
   "source": [
    "pot4 = lambda x: V(np.array([[x, 0, 0], [0, 0, 0], [14, 0, 0], [7, 3.2, 0]]))  #this function calculates the potential between four particles\n",
    "x = np.linspace(3, 11, 1000)  #x values\n",
    "\n",
    "pot4_array = np.zeros(len(x))  #initialize array for potential values\n",
    "for i in range(len(x)):  #calculate potential for each value of x\n",
    "    pot4_array[i] = pot4(x[i])\n",
    "\n",
    "#plot potential as a function of x (four particles)\n",
    "plt.plot(x, pot4_array)\n",
    "plt.xlabel(\"x\")\n",
    "plt.ylabel(\"potential strength\")\n",
    "plt.title(\"Potential strength between four particles\")"
   ]
  },
  {
   "cell_type": "markdown",
   "metadata": {},
   "source": [
    "## Problem b"
   ]
  },
  {
   "cell_type": "code",
   "execution_count": 7,
   "metadata": {},
   "outputs": [],
   "source": [
    "def bisection_root(f, a, b, tolerance=1e-13):\n",
    "    \"\"\"This function takes a function f and a bracket around a zero [a,b] and finds the corresponding root of f\"\"\"\n",
    "    \n",
    "    n_calls = 0  #initialize number of function calls\n",
    "    m = a + (b - a) / 2  #initialize midtpoint\n",
    "    fm = 1  #initialize function value at midtpoint\n",
    "    \n",
    "    while np.abs(fm) > tolerance:  #loop until f(m) is close enough to zero\n",
    "        #perform bisection root finding\n",
    "        m = a + (b - a) / 2\n",
    "        fm = f(m)\n",
    "        fa = f(a)\n",
    "        \n",
    "        if np.sign(fa) == np.sign(fm):\n",
    "            a = m\n",
    "        else:\n",
    "            b = m\n",
    "            \n",
    "        n_calls += 2  #count number of function calls\n",
    "            \n",
    "    return m, n_calls"
   ]
  },
  {
   "cell_type": "code",
   "execution_count": 8,
   "metadata": {},
   "outputs": [
    {
     "name": "stdout",
     "output_type": "stream",
     "text": [
      "Sigma: 3.401\n",
      "Root: 3.4010000000000105\n",
      "Number of function calls: 92\n"
     ]
    }
   ],
   "source": [
    "x, n_calls = bisection_root(pot2, a=2, b=6)  #perform bisection root finding to find the distance x where the LJ-potential between two particles is zero\n",
    "\n",
    "print(\"Sigma:\", SIGMA)  #I print sigma to check if I get the same value for the root\n",
    "print(\"Root:\", x)\n",
    "print(\"Number of function calls:\", n_calls)"
   ]
  },
  {
   "cell_type": "markdown",
   "metadata": {},
   "source": [
    "## Problem c"
   ]
  },
  {
   "cell_type": "code",
   "execution_count": 9,
   "metadata": {},
   "outputs": [],
   "source": [
    "def LJderiv(sigma=SIGMA, epsilon=EPSILON):\n",
    "    \"\"\"This function calculates the derivative of the pair-potential\"\"\"\n",
    "    def dV(x, sigma=SIGMA, epsilon=EPSILON):\n",
    "        d_V = 4*epsilon*(6*sigma**6/x**7 - 12*sigma**12/x**13)  #calculate derivative\n",
    "        return d_V\n",
    "    return dV\n",
    "\n",
    "dV = LJderiv()\n",
    "\n",
    "def newton_root(f, df, x0, tolerance=1e-12, max_iterations=1000):\n",
    "    \"\"\"This function takes a function f, its derivative df and an initial guess x0 and uses the Newton-Rhapson method to find a root of f\"\"\"\n",
    "    \n",
    "    x = np.copy(x0)  #initialize approximate root\n",
    "    n_calls = 0  #initialize number of function calls\n",
    "    \n",
    "    for i in range(max_iterations):  #perform Newton-Rhapson root finding\n",
    "        fx = f(x)\n",
    "        dfx = df(x)\n",
    "        \n",
    "        x = x - fx / dfx\n",
    "        \n",
    "        n_calls += 2\n",
    "        \n",
    "        if np.abs(fx) < tolerance:  #chech if f(x) is close enough to zero\n",
    "            break\n",
    "            \n",
    "    return x, n_calls"
   ]
  },
  {
   "cell_type": "code",
   "execution_count": 10,
   "metadata": {},
   "outputs": [
    {
     "name": "stdout",
     "output_type": "stream",
     "text": [
      "Sigma: 3.401\n",
      "Root: 3.4009999999999994\n",
      "Number of function calls: 26\n"
     ]
    }
   ],
   "source": [
    "x, n_calls = newton_root(pot2, dV, x0=2)  #perform Newton-Rhapson root finding to find the root of the two particle system\n",
    "\n",
    "#print result\n",
    "print(\"Sigma:\", SIGMA)\n",
    "print(\"Root:\", x)\n",
    "print(\"Number of function calls:\", n_calls)"
   ]
  },
  {
   "cell_type": "markdown",
   "metadata": {},
   "source": [
    "## Problem d"
   ]
  },
  {
   "cell_type": "code",
   "execution_count": 11,
   "metadata": {},
   "outputs": [],
   "source": [
    "def combi_root(f, df, a, b, x0, tolerance=1e-13):\n",
    "    \"\"\"This function takes a function f, its derivative df, an interval [a,b] bracketing a zero and an initial guess x and uses a combination of the Newton-Rhapson and bisection methods to find a root of f\"\"\"\n",
    "    \n",
    "    x = x0  #initialize approximate root\n",
    "    n_calls = 0  #initialize number of function calls\n",
    "    fx = 1  #initialize value of f(x)\n",
    "    \n",
    "    while np.abs(fx) > tolerance:  #loop until\n",
    "        #perform Newton-Rhapson root finding\n",
    "        fx = f(x)\n",
    "        dfx = df(x)\n",
    "        \n",
    "        x = x - fx / dfx\n",
    "        n_calls += 2\n",
    "        \n",
    "        if x < np.min((a, b)) or x > np.max((a, b)):  #if the approximate root falls outside the bracket, then perform bisection root finding\n",
    "            x = a + (b - a) / 2\n",
    "            if np.sign(f(a)) == np.sign(f(x)):\n",
    "                a = x\n",
    "            else:\n",
    "                b = x\n",
    "            \n",
    "            n_calls += 2\n",
    "    \n",
    "    return x, n_calls"
   ]
  },
  {
   "cell_type": "code",
   "execution_count": 12,
   "metadata": {},
   "outputs": [
    {
     "name": "stdout",
     "output_type": "stream",
     "text": [
      "Sigma: 3.401\n",
      "Root: 3.4009999999999994\n",
      "Number of function calls: 26\n"
     ]
    }
   ],
   "source": [
    "x, n_calls = combi_root(pot2, dV, a=2, b=6, x0=2)  #perform the combination routine on the two particle system\n",
    "\n",
    "#print the result\n",
    "print(\"Sigma:\", SIGMA)\n",
    "print(\"Root:\", x)\n",
    "print(\"Number of function calls:\", n_calls)"
   ]
  },
  {
   "cell_type": "markdown",
   "metadata": {},
   "source": [
    "# 2.2 Solving N-dimensional Nonlinear Equations"
   ]
  },
  {
   "cell_type": "markdown",
   "metadata": {},
   "source": [
    "## Problem e"
   ]
  },
  {
   "cell_type": "code",
   "execution_count": 13,
   "metadata": {},
   "outputs": [
    {
     "name": "stdout",
     "output_type": "stream",
     "text": [
      "Gradient of 2-particle system at x=3:\n",
      "[[-54.9536532   0.          0.       ]\n",
      " [ 54.9536532   0.          0.       ]] \n",
      "\n",
      "Gradient of 2-particle system at x=7:\n",
      "[[ 0.0437806  0.         0.       ]\n",
      " [-0.0437806  0.         0.       ]] \n",
      "\n",
      "Gradient of 2-particle system at x=10:\n",
      "[[ 0.00369148  0.          0.        ]\n",
      " [-0.00369148  0.          0.        ]]\n"
     ]
    }
   ],
   "source": [
    "grad_pot2 = lambda x: gradV(np.array([[x, 0, 0], [0, 0, 0]]))  #this function calculates the gradient of the potential for the 2-particle system\n",
    "\n",
    "# I look at the gradient of the 2-particle system for x=3, x=7 and x=10\n",
    "print(\"Gradient of 2-particle system at x=3:\")\n",
    "print(grad_pot2(3), \"\\n\")\n",
    "\n",
    "print(\"Gradient of 2-particle system at x=7:\")\n",
    "print(grad_pot2(7), \"\\n\")\n",
    "\n",
    "print(\"Gradient of 2-particle system at x=10:\")\n",
    "print(grad_pot2(10))"
   ]
  },
  {
   "cell_type": "code",
   "execution_count": 14,
   "metadata": {},
   "outputs": [
    {
     "data": {
      "text/plain": [
       "<matplotlib.legend.Legend at 0x7f8779657100>"
      ]
     },
     "execution_count": 14,
     "metadata": {},
     "output_type": "execute_result"
    },
    {
     "data": {
      "image/png": "[encoded data removed]",
      "text/plain": [
       "<Figure size 432x288 with 1 Axes>"
      ]
     },
     "metadata": {
      "needs_background": "light"
     },
     "output_type": "display_data"
    }
   ],
   "source": [
    "x = np.linspace(3, 10, 1000)  #array of position values\n",
    "\n",
    "pot2_array = np.zeros(len(x))  #initialize array of potential values\n",
    "grad_pot2_array = np.zeros(len(x))  #initialize array of derivative values\n",
    "\n",
    "for i in range(len(x)):  #calculate potential and (0,0)-component of gradient for each x\n",
    "    pot2_array[i] = pot2(x[i])\n",
    "    grad_pot2_array[i] = grad_pot2(x[i])[0,0]\n",
    "\n",
    "#plot results\n",
    "plt.plot(x, pot2_array, label=\"potential strength\")\n",
    "plt.plot(x, grad_pot2_array, label=\"gradient\")\n",
    "plt.plot((3, 10), (0, 0), \"k:\")\n",
    "plt.xlabel(\"x\")\n",
    "plt.ylabel(\"potential strength and gradient\")\n",
    "plt.ylim(-2, 2)\n",
    "plt.title(\"Potential strength and gradient of potential strength\")\n",
    "plt.legend()"
   ]
  },
  {
   "cell_type": "code",
   "execution_count": 15,
   "metadata": {},
   "outputs": [
    {
     "name": "stdout",
     "output_type": "stream",
     "text": [
      "One of the minima of the 4-particle system is at x = 3.952952952952953\n"
     ]
    }
   ],
   "source": [
    "grad_pot4 = lambda x: gradV(np.array([[x, 0, 0], [0, 0, 0], [14, 0, 0], [7, 3.2, 0]]))  #this function calculates the gradient of the potential for the 4-particle system\n",
    "x = np.linspace(3, 11, 1000)  #array of x-values (the same array I used when creating pot4_array)\n",
    "\n",
    "pot_min = np.min(pot4_array)  #find the value of the potential at one of the minima\n",
    "index = np.where(pot4_array == pot_min)[0][0]  #find the index of this minimum\n",
    "x_min = x[index]  #find the x-value at the minimum using the index\n",
    "\n",
    "print(\"One of the minima of the 4-particle system is at x =\", x_min)"
   ]
  },
  {
   "cell_type": "code",
   "execution_count": 16,
   "metadata": {},
   "outputs": [
    {
     "name": "stdout",
     "output_type": "stream",
     "text": [
      "The gradient at the minimun is:\n",
      "[[ 0.00636246 -0.47632766  0.        ]\n",
      " [-0.48457968 -0.00947811  0.        ]\n",
      " [ 0.02465697 -0.00947811  0.        ]\n",
      " [ 0.45356025  0.49528388  0.        ]] \n",
      "\n",
      "Summing over each particle, the gradient at the minimum is:\n",
      "[-0. -0.  0.]\n"
     ]
    }
   ],
   "source": [
    "#I print the gradient at the minimum\n",
    "print(\"The gradient at the minimun is:\")\n",
    "print(grad_pot4(x_min), \"\\n\")\n",
    "\n",
    "print(\"Summing over each particle, the gradient at the minimum is:\")\n",
    "print(np.round(np.sum(grad_pot4(x_min), axis=0), 12))"
   ]
  },
  {
   "cell_type": "markdown",
   "metadata": {},
   "source": [
    "## Problem f"
   ]
  },
  {
   "cell_type": "code",
   "execution_count": 17,
   "metadata": {},
   "outputs": [],
   "source": [
    "def linesearch(F, X0, d, alpha_max, tolerance=10e-13, max_iterations=1000):\n",
    "    \"\"\"This function takes a function F, a position X0, a direction d and a maximum alpha value and performs linesearch to find a zero of F(X0) along the direction d\"\"\"\n",
    "    \n",
    "    def dotproduct(alpha):  #restrict F to line and perform dot product with d\n",
    "        dot_product = np.sum(d * F(X0 + alpha * d))\n",
    "        return  dot_product\n",
    "    \n",
    "    alpha, n_calls = bisection_root(dotproduct, a=0, b=alpha_max, tolerance=tolerance)  #search for root using bisection\n",
    "    \n",
    "    return alpha, n_calls"
   ]
  },
  {
   "cell_type": "code",
   "execution_count": 18,
   "metadata": {},
   "outputs": [
    {
     "name": "stdout",
     "output_type": "stream",
     "text": [
      "alpha = 0.451707051842277\n",
      "Number of function calls: 80\n"
     ]
    }
   ],
   "source": [
    "X0 = np.array([[4,0,0], [0,0,0], [14,0,0], [7, 3.2, 0]])  #define X0\n",
    "d = - gradV(X0)  #the linesearch is going to be performed along the direction of the negative gradient\n",
    "\n",
    "alpha, n_calls = linesearch(gradV, X0, d, alpha_max=1)  #perform linesearch to find zero of gradient along the direction of the negative gradient\n",
    "\n",
    "#print result\n",
    "print(\"alpha =\", alpha)\n",
    "print(\"Number of function calls:\", n_calls)"
   ]
  },
  {
   "cell_type": "markdown",
   "metadata": {},
   "source": [
    "## Problem g"
   ]
  },
  {
   "cell_type": "code",
   "execution_count": 19,
   "metadata": {},
   "outputs": [],
   "source": [
    "ArStart = np.load('ArStart.npz')  #load starting positions"
   ]
  },
  {
   "cell_type": "code",
   "execution_count": 20,
   "metadata": {},
   "outputs": [],
   "source": [
    "def golden_section_min(f, a, b, tolerance=1e-6):\n",
    "    \"\"\"This function takes a function f and an interval [a,b] and performs golden section search to find a minimum in the interval\"\"\"\n",
    "    \n",
    "    #initialize parameters\n",
    "    tau = (np.sqrt(5) - 1) / 2\n",
    "    x1 = a + (1 - tau) * (b - a)\n",
    "    f1 = f(x1)\n",
    "    x2 = a + tau * (b - a)\n",
    "    f2 = f(x2)\n",
    "    \n",
    "    n_calls = 2  #initialize number of function calls (the function is called twice when initializing)\n",
    "    \n",
    "    while (b - a) > tolerance:\n",
    "        if f1 > f2:\n",
    "            a = x1\n",
    "            x1 = x2\n",
    "            f1 = f2\n",
    "            x2 = a + tau * (b - a)\n",
    "            f2 = f(x2)\n",
    "        else:\n",
    "            b = x2\n",
    "            x2 = x1\n",
    "            f2 = f1\n",
    "            x1 = a + (1 - tau) * (b - a)\n",
    "            f1 = f(x1)\n",
    "    \n",
    "        n_calls += 1  #count number of function calls\n",
    "        \n",
    "    return x1, n_calls"
   ]
  },
  {
   "cell_type": "code",
   "execution_count": 21,
   "metadata": {},
   "outputs": [],
   "source": [
    "def find_alpha_golden_section(F, X0, d, alpha_min, alpha_max):\n",
    "    \"\"\"This function takes a function F, a position X0, a direction d and minimum and maximum values of alpha and finds the linesearch paramenter alpha using golden section search\"\"\"\n",
    "    \n",
    "    def F_on_line(alpha):  #restrict F to line\n",
    "        return F(X0 + d * alpha)\n",
    "    \n",
    "    alpha, n_calls = golden_section_min(F_on_line, alpha_min, alpha_max)  #perform golden section search on line restricted function\n",
    "    \n",
    "    return alpha, n_calls"
   ]
  },
  {
   "cell_type": "code",
   "execution_count": 22,
   "metadata": {},
   "outputs": [
    {
     "name": "stdout",
     "output_type": "stream",
     "text": [
      "alpha = 0.45170734654452777\n",
      "Number of function calls: 30\n"
     ]
    }
   ],
   "source": [
    "X0 = np.array([[4,0,0], [0,0,0], [14,0,0], [7, 3.2, 0]])  #define position\n",
    "d = - gradV(X0)  #the direction is the negative gradient\n",
    "\n",
    "alpha, n_calls = find_alpha_golden_section(flat_V, X0, d, alpha, alpha_max=1)  #find alpha using golden section search\n",
    "\n",
    "#print result\n",
    "print(\"alpha =\", alpha)\n",
    "print(\"Number of function calls:\", n_calls)"
   ]
  },
  {
   "cell_type": "code",
   "execution_count": 23,
   "metadata": {},
   "outputs": [
    {
     "name": "stdout",
     "output_type": "stream",
     "text": [
      "r0 = 3.8174932404164\n",
      "Number of function calls: 33\n"
     ]
    }
   ],
   "source": [
    "#I find the optimal distance between two particles using golden section search\n",
    "#I have chosen the interval (3,5) because I can see on the plot above that the minimum of the potential lies in this interval\n",
    "\n",
    "r0, n_calls = golden_section_min(pot2, 3, 5)  #perform golden section search on the potential of the 2-particle system\n",
    "\n",
    "#print result\n",
    "print(\"r0 =\", r0)\n",
    "print(\"Number of function calls:\", n_calls)"
   ]
  },
  {
   "cell_type": "markdown",
   "metadata": {},
   "source": [
    "## Problem h"
   ]
  },
  {
   "cell_type": "code",
   "execution_count": 24,
   "metadata": {},
   "outputs": [],
   "source": [
    "def BFGS(f, gradf, X_initial, tolerance=1e-6, max_iterations = 10000):\n",
    "    \"\"\"This function takes a function f, its gradient gradf and a starting position X_initial and uses the BFGS method to find a minimum of the function f\"\"\"\n",
    "    \n",
    "    converged = False  #initialize whether convergence has been achieved\n",
    "    x = np.copy(X_initial)  #initialize approximate minimum position\n",
    "    B = np.identity(len(x))  #initialize approximate Hessian\n",
    "    n_calls = 1  #initialize number of function calls (set to 1 because I call gradf when initializing)\n",
    "    gradfx = gradf(x)  #initialize gradient\n",
    "      \n",
    "    for i in range(max_iterations):  #perform BFGS until convergence has been achieved or the maximum number of iterations has been reached\n",
    "        \n",
    "        gradient_old = gradfx  #gradient of the old x-value\n",
    "        \n",
    "        s = np.linalg.solve(B, -gradient_old)\n",
    "        x += s\n",
    "        gradfx = gradf(x)  #update gradient\n",
    "        y = gradfx - gradient_old\n",
    "        B += np.outer(y, y) / np.dot(y, s) - np.matmul(B, np.matmul(np.outer(s, s), B)) / np.dot(s, np.matmul(B, s))\n",
    "        \n",
    "        n_calls += 1  #count number of function calls\n",
    "        \n",
    "        if np.linalg.norm(gradfx) < tolerance:  #break and set convergence true iff convergence has been achieved\n",
    "            converged = True\n",
    "            n_steps = i + 1  #count number of BFGS steps (plus 1 because for the first step i=0)\n",
    "            break\n",
    "    \n",
    "    return x, converged, n_calls, n_steps"
   ]
  },
  {
   "cell_type": "code",
   "execution_count": 25,
   "metadata": {},
   "outputs": [
    {
     "name": "stdout",
     "output_type": "stream",
     "text": [
      "This distance matrix at the found minimum for the 2-particle system:\n",
      "[[0.         3.81749343]\n",
      " [3.81749343 0.        ]] \n",
      "\n",
      "r0 = 3.817493425601058\n",
      "Number of function calls: 7\n",
      "Number of BFGS steps: 6\n",
      "Convergence was achieved: True\n"
     ]
    }
   ],
   "source": [
    "x, converged, n_calls, n_steps = BFGS(flat_V, flat_gradV, ArStart[\"Xstart2\"])  #find minimum of 2-particle system using BFGS\n",
    "\n",
    "x_reshaped = x.reshape(-1,3)  #reshape optimal x\n",
    "D = distance(x_reshaped)  #calculate distance matrix\n",
    "\n",
    "print(\"This distance matrix at the found minimum for the 2-particle system:\")\n",
    "print(D, \"\\n\")\n",
    "\n",
    "r0 = D[0,1]  #optimal distance between the two particles\n",
    "print(\"r0 =\", r0)\n",
    "print(\"Number of function calls:\", n_calls)\n",
    "print(\"Number of BFGS steps:\", n_steps)\n",
    "print(\"Convergence was achieved:\", converged)"
   ]
  },
  {
   "cell_type": "markdown",
   "metadata": {},
   "source": [
    "## Problem i"
   ]
  },
  {
   "cell_type": "code",
   "execution_count": 26,
   "metadata": {},
   "outputs": [],
   "source": [
    "x_list = []  #initialize list of found minimal energy configurations\n",
    "converged_list = []  #initialize list of whether convergence was achieved\n",
    "n_calls_list = []  #initialize list of number of function calls\n",
    "n_steps_list = []  #initialize list of number of BFGS steps\n",
    "distances_within_1_percent = []  #initialize list of number of distances within 1 % of r0\n",
    "\n",
    "for item in ArStart.files[:-1]:  #perform BFGS for all the particles\n",
    "    x, converged, n_calls, n_steps = BFGS(flat_V, flat_gradV, ArStart[item])\n",
    "    \n",
    "    if not converged:  #stop if I reach N that I can't get to converge\n",
    "        print(\"not converged\")\n",
    "        break\n",
    "    \n",
    "    x_reshaped = x.reshape(-1,3)  #reshape x\n",
    "    x_list.append(x_reshaped)\n",
    "    \n",
    "    converged_list.append(converged)\n",
    "    \n",
    "    D = distance(x_reshaped)  #calculate distance matrix\n",
    "    distances_within_1_percent.append(np.sum(np.abs(D-r0)/r0 <= 0.02)//2)\n",
    "    \n",
    "    n_calls_list.append(n_calls)\n",
    "    n_steps_list.append(n_steps)"
   ]
  },
  {
   "cell_type": "code",
   "execution_count": 27,
   "metadata": {},
   "outputs": [
    {
     "name": "stdout",
     "output_type": "stream",
     "text": [
      "Xstart2\n",
      "Convergence was reached: True\n",
      "Number of function calls: 7\n",
      "Number of BFGS steps: 6\n",
      "Number of distances within 1 % of r0: 1 \n",
      "\n",
      "Xstart3\n",
      "Convergence was reached: True\n",
      "Number of function calls: 17\n",
      "Number of BFGS steps: 16\n",
      "Number of distances within 1 % of r0: 0 \n",
      "\n",
      "Xstart4\n",
      "Convergence was reached: True\n",
      "Number of function calls: 20\n",
      "Number of BFGS steps: 19\n",
      "Number of distances within 1 % of r0: 0 \n",
      "\n",
      "Xstart5\n",
      "Convergence was reached: True\n",
      "Number of function calls: 50\n",
      "Number of BFGS steps: 49\n",
      "Number of distances within 1 % of r0: 0 \n",
      "\n",
      "Xstart6\n",
      "Convergence was reached: True\n",
      "Number of function calls: 30\n",
      "Number of BFGS steps: 29\n",
      "Number of distances within 1 % of r0: 0 \n",
      "\n",
      "Xstart7\n",
      "Convergence was reached: True\n",
      "Number of function calls: 360\n",
      "Number of BFGS steps: 359\n",
      "Number of distances within 1 % of r0: 0 \n",
      "\n",
      "Xstart8\n",
      "Convergence was reached: True\n",
      "Number of function calls: 26\n",
      "Number of BFGS steps: 25\n",
      "Number of distances within 1 % of r0: 0 \n",
      "\n",
      "Xstart9\n",
      "Convergence was reached: True\n",
      "Number of function calls: 4\n",
      "Number of BFGS steps: 3\n",
      "Number of distances within 1 % of r0: 0 \n",
      "\n",
      "Xstart20\n",
      "Convergence was reached: True\n",
      "Number of function calls: 31\n",
      "Number of BFGS steps: 30\n",
      "Number of distances within 1 % of r0: 0 \n",
      "\n"
     ]
    }
   ],
   "source": [
    "#print results\n",
    "for i in range(len(x_list)):\n",
    "    print(ArStart.files[:-1][i])\n",
    "    print(\"Convergence was reached:\", converged_list[i])\n",
    "    print(\"Number of function calls:\", n_calls_list[i])\n",
    "    print(\"Number of BFGS steps:\", n_steps_list[i])\n",
    "    print(\"Number of distances within 1 % of r0:\", distances_within_1_percent[i], \"\\n\")"
   ]
  },
  {
   "cell_type": "code",
   "execution_count": 28,
   "metadata": {},
   "outputs": [
    {
     "data": {
      "text/plain": [
       "Text(0.5, 0.92, 'N = 20')"
      ]
     },
     "execution_count": 28,
     "metadata": {},
     "output_type": "execute_result"
    },
    {
     "data": {
      "image/png": "[encoded data removed]",
      "text/plain": [
       "<Figure size 432x288 with 1 Axes>"
      ]
     },
     "metadata": {
      "needs_background": "light"
     },
     "output_type": "display_data"
    },
    {
     "data": {
      "image/png": "[encoded data removed]",
      "text/plain": [
       "<Figure size 432x288 with 1 Axes>"
      ]
     },
     "metadata": {
      "needs_background": "light"
     },
     "output_type": "display_data"
    }
   ],
   "source": [
    "#plot the found minimal energy configuration for N=3 and N=20\n",
    "ax3, _ = create_base_plot(x_list[1])\n",
    "make_plot_pretty(ax3)\n",
    "ax3.set_title(\"N = 3\")\n",
    "\n",
    "ax20, _ = create_base_plot(x_list[-1])\n",
    "make_plot_pretty(ax20)\n",
    "ax20.set_title(\"N = 20\")"
   ]
  },
  {
   "cell_type": "markdown",
   "metadata": {},
   "source": [
    "## Problem j"
   ]
  },
  {
   "cell_type": "code",
   "execution_count": 29,
   "metadata": {},
   "outputs": [],
   "source": [
    "def BFGS_linesearch(f, gradf, X_initial, tolerance=1e-6, max_iterations = 10000):\n",
    "    \"\"\"This is the same BFGS function as above but with a linesearch along direction s added\"\"\"\n",
    "    \n",
    "    #initialize parameters\n",
    "    converged = False\n",
    "    x = np.copy(X_initial)\n",
    "    B = np.identity(len(x))\n",
    "    gradfx = gradf(x)\n",
    "    n_calls = 1\n",
    "      \n",
    "    for i in range(max_iterations):\n",
    "        \n",
    "        gradient_old = gradfx\n",
    "        \n",
    "        s = np.linalg.solve(B, -gradient_old)\n",
    "        \n",
    "        alpha, n_calls_linesearch = find_alpha_golden_section(f, x, s, -1, 1)  #linesearch step where the linesearch parameter alpha along direction s is found using golden section search\n",
    "        \n",
    "        s *= alpha  #s is dampened by alpha\n",
    "        x += s\n",
    "        gradfx = gradf(x)\n",
    "        y = gradfx - gradient_old\n",
    "        B += np.outer(y, y) / np.dot(y, s) - np.matmul(B, np.matmul(np.outer(s, s), B)) / np.matmul(np.matmul(B, s), s)\n",
    "        \n",
    "        n_calls += (1 + n_calls_linesearch)\n",
    "        \n",
    "        if np.linalg.norm(gradfx) < tolerance:\n",
    "            converged = True\n",
    "            n_steps = i + 1\n",
    "            break\n",
    "    \n",
    "    return x, converged, n_calls, n_steps"
   ]
  },
  {
   "cell_type": "code",
   "execution_count": 30,
   "metadata": {},
   "outputs": [],
   "source": [
    "#initialize lists\n",
    "x_list1 = []\n",
    "converged_list1 = []\n",
    "n_calls_list1 = []\n",
    "n_steps_list1 = []\n",
    "distances_within_1_percent1 = []\n",
    "\n",
    "for item in ArStart.files[:-1]:  #perform BFGS for all the particles\n",
    "    x, converged, n_calls, n_steps = BFGS_linesearch(flat_V, flat_gradV, ArStart[item])\n",
    "    \n",
    "    if not converged:  #stop if I reach N that I can't get to converge\n",
    "        print(\"not converged\")\n",
    "        break\n",
    "    \n",
    "    x_reshaped = x.reshape(-1,3)  #reshape x\n",
    "    x_list1.append(x_reshaped)\n",
    "    \n",
    "    converged_list1.append(converged)\n",
    "    \n",
    "    D = distance(x_reshaped)  #calculate distance matrix\n",
    "    distances_within_1_percent1.append(np.sum(np.abs(D-r0)/r0 <= 0.02)//2)\n",
    "    \n",
    "    n_calls_list1.append(n_calls)\n",
    "    n_steps_list1.append(n_steps)"
   ]
  },
  {
   "cell_type": "code",
   "execution_count": 31,
   "metadata": {},
   "outputs": [
    {
     "name": "stdout",
     "output_type": "stream",
     "text": [
      "Xstart2\n",
      "The BFGS with linesearch algorithm converged: True\n",
      "Number of function calls: 35\n",
      "Number of BFGS steps: 1\n",
      "Number of distances within 1 % of r0: 1 \n",
      "\n",
      "Xstart3\n",
      "The BFGS with linesearch algorithm converged: True\n",
      "Number of function calls: 409\n",
      "Number of BFGS steps: 12\n",
      "Number of distances within 1 % of r0: 3 \n",
      "\n",
      "Xstart4\n",
      "The BFGS with linesearch algorithm converged: True\n",
      "Number of function calls: 681\n",
      "Number of BFGS steps: 20\n",
      "Number of distances within 1 % of r0: 6 \n",
      "\n",
      "Xstart5\n",
      "The BFGS with linesearch algorithm converged: True\n",
      "Number of function calls: 2551\n",
      "Number of BFGS steps: 75\n",
      "Number of distances within 1 % of r0: 9 \n",
      "\n",
      "Xstart6\n",
      "The BFGS with linesearch algorithm converged: True\n",
      "Number of function calls: 1973\n",
      "Number of BFGS steps: 58\n",
      "Number of distances within 1 % of r0: 12 \n",
      "\n",
      "Xstart7\n",
      "The BFGS with linesearch algorithm converged: True\n",
      "Number of function calls: 9623\n",
      "Number of BFGS steps: 283\n",
      "Number of distances within 1 % of r0: 15 \n",
      "\n",
      "Xstart8\n",
      "The BFGS with linesearch algorithm converged: True\n",
      "Number of function calls: 3061\n",
      "Number of BFGS steps: 90\n",
      "Number of distances within 1 % of r0: 19 \n",
      "\n",
      "Xstart9\n",
      "The BFGS with linesearch algorithm converged: True\n",
      "Number of function calls: 2619\n",
      "Number of BFGS steps: 77\n",
      "Number of distances within 1 % of r0: 21 \n",
      "\n",
      "Xstart20\n",
      "The BFGS with linesearch algorithm converged: True\n",
      "Number of function calls: 9317\n",
      "Number of BFGS steps: 274\n",
      "Number of distances within 1 % of r0: 31 \n",
      "\n"
     ]
    }
   ],
   "source": [
    "#print the results\n",
    "for i in range(len(x_list)):\n",
    "    print(ArStart.files[:-1][i])\n",
    "    print(\"The BFGS with linesearch algorithm converged:\", converged_list1[i])\n",
    "    print(\"Number of function calls:\", n_calls_list1[i])\n",
    "    print(\"Number of BFGS steps:\", n_steps_list1[i])\n",
    "    print(\"Number of distances within 1 % of r0:\", distances_within_1_percent1[i], \"\\n\")"
   ]
  },
  {
   "cell_type": "code",
   "execution_count": 32,
   "metadata": {},
   "outputs": [
    {
     "data": {
      "text/plain": [
       "Text(0.5, 0.92, 'N = 20')"
      ]
     },
     "execution_count": 32,
     "metadata": {},
     "output_type": "execute_result"
    },
    {
     "data": {
      "image/png": "[encoded data removed]",
      "text/plain": [
       "<Figure size 432x288 with 1 Axes>"
      ]
     },
     "metadata": {
      "needs_background": "light"
     },
     "output_type": "display_data"
    },
    {
     "data": {
      "image/png": "[encoded data removed]",
      "text/plain": [
       "<Figure size 432x288 with 1 Axes>"
      ]
     },
     "metadata": {
      "needs_background": "light"
     },
     "output_type": "display_data"
    }
   ],
   "source": [
    "#plot the found minimal energy configuration for N=3 and N=20\n",
    "ax3, _ = create_base_plot(x_list1[1])\n",
    "make_plot_pretty(ax3)\n",
    "ax3.set_title(\"N = 3\")\n",
    "\n",
    "ax20, _ = create_base_plot(x_list1[-1])\n",
    "make_plot_pretty(ax20)\n",
    "ax20.set_title(\"N = 20\")"
   ]
  },
  {
   "cell_type": "code",
   "execution_count": null,
   "metadata": {},
   "outputs": [],
   "source": []
  }
 ],
 "metadata": {
  "kernelspec": {
   "display_name": "Python 3",
   "language": "python",
   "name": "python3"
  },
  "language_info": {
   "codemirror_mode": {
    "name": "ipython",
    "version": 3
   },
   "file_extension": ".py",
   "mimetype": "text/x-python",
   "name": "python",
   "nbconvert_exporter": "python",
   "pygments_lexer": "ipython3",
   "version": "3.8.5"
  }
 },
 "nbformat": 4,
 "nbformat_minor": 4
}
